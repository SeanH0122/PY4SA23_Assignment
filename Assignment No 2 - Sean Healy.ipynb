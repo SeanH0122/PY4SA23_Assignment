{
 "cells": [
  {
   "cell_type": "markdown",
   "id": "fd5fe0b1",
   "metadata": {},
   "source": [
    "# Assignment No 2 - Sean Healy"
   ]
  },
  {
   "cell_type": "markdown",
   "id": "9fffcc35",
   "metadata": {},
   "source": [
    "## 200016001"
   ]
  },
  {
   "cell_type": "markdown",
   "id": "b1679b34",
   "metadata": {},
   "source": [
    "## https://github.com/SeanH0122/PY4SA23_Assignment"
   ]
  },
  {
   "cell_type": "markdown",
   "id": "722a6c3c",
   "metadata": {},
   "source": [
    "### Python Basics"
   ]
  },
  {
   "cell_type": "markdown",
   "id": "066b83e0",
   "metadata": {},
   "source": [
    "#### Task 1"
   ]
  },
  {
   "cell_type": "code",
   "execution_count": 3,
   "id": "d4e5171b",
   "metadata": {},
   "outputs": [
    {
     "name": "stdout",
     "output_type": "stream",
     "text": [
      "Enter a number: 12\n",
      "12 is divisible by 3\n"
     ]
    }
   ],
   "source": [
    "# If... Else statement to test if a number is divisible by 3\n",
    "\n",
    "# Prompt\n",
    "num = int(input(\"Enter a number: \"))\n",
    "\n",
    "# Check\n",
    "if num % 3 == 0:\n",
    "    print(num, \"is divisible by 3\")\n",
    "else:\n",
    "    print(num, \"is not divisible by 3\")"
   ]
  },
  {
   "cell_type": "markdown",
   "id": "95348363",
   "metadata": {},
   "source": [
    "#### Task 2"
   ]
  },
  {
   "cell_type": "code",
   "execution_count": 6,
   "id": "b858fe6b",
   "metadata": {},
   "outputs": [
    {
     "name": "stdout",
     "output_type": "stream",
     "text": [
      "Enter a fruit: Banana\n",
      "BANANA is not acceptable.\n"
     ]
    }
   ],
   "source": [
    "# If... Else statement to test a string in a list\n",
    "\n",
    "# Define\n",
    "acceptable_fruits = [\"apple\", \"orange\", \"pear\", \"kiwi\", \"strawberry\"]\n",
    "\n",
    "# Prompt\n",
    "fruit = input(\"Enter a fruit: \")\n",
    "\n",
    "#Check\n",
    "if fruit.lower() in acceptable_fruits:\n",
    "    print(fruit.upper(), \"is acceptable\")\n",
    "else:\n",
    "    print(fruit.upper(), \"is not acceptable.\")"
   ]
  },
  {
   "cell_type": "code",
   "execution_count": 10,
   "id": "d2a9b320",
   "metadata": {},
   "outputs": [
    {
     "name": "stdout",
     "output_type": "stream",
     "text": [
      "The distance between the Uni of St. Andrews and Edinburgh Uni is  50.20 km.\n"
     ]
    }
   ],
   "source": [
    "#Import\n",
    "from math import radians, sin, cos, sqrt, atan2\n",
    "\n",
    "#Define\n",
    "def haversine_distance(coord1, coord2):\n",
    "    #Mean radius of Earth in km\n",
    "    R = 6371.0\n",
    "    \n",
    "    #Convert lat/long to radians\n",
    "    lat1,lon1 = radians(coord1[0]), radians(coord1[1])\n",
    "    lat2, lon2 = radians(coord2[0]), radians(coord2[1])\n",
    "    \n",
    "    # Calculate the difference between the two latitudes and longitudes\n",
    "    dlat = lat2 - lat1\n",
    "    dlon = lon2 - lon1\n",
    "\n",
    "    # Calculate the haversine of half the difference in latitude and longitude\n",
    "    a = sin(dlat/2)**2 + cos(lat1) * cos(lat2) * sin(dlon/2)**2\n",
    "\n",
    "    # Calculate the central angle using the arctangent function\n",
    "    c = 2 * atan2(sqrt(a), sqrt(1-a))\n",
    "\n",
    "    # Calculate the distance using the Haversine formula\n",
    "    d = R * c\n",
    "\n",
    "    return d\n",
    "\n",
    "# Coordinates of Uni of St. Andrews\n",
    "standrews = [56.3394, -2.7962]\n",
    "\n",
    "#Coordinates of Edinburgh Uni\n",
    "edinburgh = [55.9441, -3.1875]\n",
    "\n",
    "#Calculate distance between Uni of St. Andrews and Edinburgh Uni with Haversine Function\n",
    "distance = haversine_distance(standrews, edinburgh)\n",
    "\n",
    "print(f\"The distance between the Uni of St. Andrews and Edinburgh Uni is {distance: .2f} km.\")"
   ]
  },
  {
   "cell_type": "markdown",
   "id": "de0c6191",
   "metadata": {},
   "source": [
    "### Pandas and NumPy"
   ]
  },
  {
   "cell_type": "markdown",
   "id": "9f2b81d3",
   "metadata": {},
   "source": [
    "#### Question 1: How many trees are of the Quercus or Acer genus? "
   ]
  },
  {
   "cell_type": "code",
   "execution_count": 18,
   "id": "c6a22ed9",
   "metadata": {},
   "outputs": [
    {
     "name": "stdout",
     "output_type": "stream",
     "text": [
      "There are 5675 trees of the Quercus or Acer genus in the Portland parks.\n"
     ]
    }
   ],
   "source": [
    "import pandas as pandas\n",
    "\n",
    "# Define file path \n",
    "file_path = '/Users/seanhealy/Desktop/PY4SA23_Assignment/Assignment_2_Data/portland_park_trees.csv'\n",
    "\n",
    "# Read file\n",
    "trees = pandas.read_csv(file_path)\n",
    "\n",
    "# Filter for rows of Quercus or Acer genus\n",
    "quercus_or_acer = trees[(trees['Genus'] == 'Quercus') | (trees['Genus'] == 'Acer')]\n",
    "\n",
    "# Number of rows\n",
    "num_trees = len(quercus_or_acer)\n",
    "\n",
    "print(f\"There are {num_trees} trees of the Quercus or Acer genus in the Portland parks.\")"
   ]
  },
  {
   "cell_type": "markdown",
   "id": "9dafe72c",
   "metadata": {},
   "source": [
    "#### Question 2: How many trees are of the Quercus or Acer genus and have a DBH larger than 50 inches?"
   ]
  },
  {
   "cell_type": "code",
   "execution_count": 25,
   "id": "8072d8a7",
   "metadata": {},
   "outputs": [
    {
     "name": "stdout",
     "output_type": "stream",
     "text": [
      "There are 124 trees of the Quercus or Acer genus with a DBH larger than 50 inches.\n"
     ]
    }
   ],
   "source": [
    "# Filter for Quercus or Acer genus with DBH > 50 inches\n",
    "quercus_or_acer_dbh_50 = quercus_or_acer[quercus_or_acer['DBH'] > 50]\n",
    "\n",
    "# Number of rows\n",
    "num_trees = len(quercus_or_acer_dbh_50)\n",
    "\n",
    "print(f\"There are {num_trees} trees of the Quercus or Acer genus with a DBH larger than 50 inches.\")"
   ]
  },
  {
   "cell_type": "markdown",
   "id": "8bd8bab8",
   "metadata": {},
   "source": [
    "#### Question 3:  Which genus has the highest mean DBH of the following genera: Quercus, Acer, or Fraxinus?"
   ]
  },
  {
   "cell_type": "code",
   "execution_count": 29,
   "id": "0a8045c1",
   "metadata": {},
   "outputs": [
    {
     "name": "stdout",
     "output_type": "stream",
     "text": [
      "The genus with the highest mean DBH is Quercus.\n"
     ]
    }
   ],
   "source": [
    "# Filter for Quercus, Acer, and Fraxinus genus\n",
    "qaf_trees = trees[trees['Genus'].isin(['Quercus', 'Acer', 'Fraxinus'])]\n",
    "\n",
    "# Calculate the mean DBH for each group\n",
    "mean_dbh = qaf_trees.groupby('Genus')['DBH'].mean()\n",
    "\n",
    "# Calculate the highest mean\n",
    "highest_mean = mean_dbh.idxmax()\n",
    "\n",
    "print(f\"The genus with the highest mean DBH is {highest_mean}.\")"
   ]
  },
  {
   "cell_type": "markdown",
   "id": "7525723d",
   "metadata": {},
   "source": [
    "#### Question 4: How many different species of trees are recorded in the Acer genus? "
   ]
  },
  {
   "cell_type": "code",
   "execution_count": 30,
   "id": "6c5c2c6b",
   "metadata": {},
   "outputs": [
    {
     "name": "stdout",
     "output_type": "stream",
     "text": [
      "There are 20 different species of trees in the Acer genus.\n"
     ]
    }
   ],
   "source": [
    "# Filter for Acer genus\n",
    "acer_trees = trees[trees['Genus'] == 'Acer']\n",
    "\n",
    "# Count unique species\n",
    "num_species = len(acer_trees['Species'].unique())\n",
    "\n",
    "print(f\"There are {num_species} different species of trees in the Acer genus.\")"
   ]
  },
  {
   "cell_type": "code",
   "execution_count": null,
   "id": "38b3b8db",
   "metadata": {},
   "outputs": [],
   "source": []
  }
 ],
 "metadata": {
  "kernelspec": {
   "display_name": "Python 3 (ipykernel)",
   "language": "python",
   "name": "python3"
  },
  "language_info": {
   "codemirror_mode": {
    "name": "ipython",
    "version": 3
   },
   "file_extension": ".py",
   "mimetype": "text/x-python",
   "name": "python",
   "nbconvert_exporter": "python",
   "pygments_lexer": "ipython3",
   "version": "3.10.9"
  }
 },
 "nbformat": 4,
 "nbformat_minor": 5
}
