{
 "cells": [
  {
   "cell_type": "markdown",
   "id": "54461292",
   "metadata": {},
   "source": [
    "# Assignment No 2 - Sean Healy"
   ]
  },
  {
   "cell_type": "markdown",
   "id": "f0783d8f",
   "metadata": {},
   "source": [
    "## 200016001"
   ]
  },
  {
   "cell_type": "markdown",
   "id": "8e483c05",
   "metadata": {},
   "source": [
    "## https://github.com/SeanH0122/PY4SA23_Assignment"
   ]
  },
  {
   "cell_type": "code",
   "execution_count": null,
   "id": "1a6e4546",
   "metadata": {},
   "outputs": [],
   "source": []
  }
 ],
 "metadata": {
  "kernelspec": {
   "display_name": "Python 3 (ipykernel)",
   "language": "python",
   "name": "python3"
  },
  "language_info": {
   "codemirror_mode": {
    "name": "ipython",
    "version": 3
   },
   "file_extension": ".py",
   "mimetype": "text/x-python",
   "name": "python",
   "nbconvert_exporter": "python",
   "pygments_lexer": "ipython3",
   "version": "3.10.9"
  }
 },
 "nbformat": 4,
 "nbformat_minor": 5
}
